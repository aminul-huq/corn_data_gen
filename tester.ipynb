{
 "cells": [
  {
   "cell_type": "code",
   "execution_count": 1,
   "id": "17a6518e-461f-451e-aa32-c391396953b7",
   "metadata": {},
   "outputs": [],
   "source": [
    "import json,cv2\n",
    "from PIL import Image, ImageDraw\n",
    "\n",
    "f = open('corn_annotations.json')\n",
    "data = json.load(f)"
   ]
  },
  {
   "cell_type": "code",
   "execution_count": 2,
   "id": "f70f5cb2-a9a1-42ee-b95a-81e5ac96ff11",
   "metadata": {
    "tags": []
   },
   "outputs": [],
   "source": [
    "## image file names\n",
    "\n",
    "file_name = []\n",
    "for i in data:\n",
    "    file_name.append((i['file_upload'][9:]))"
   ]
  },
  {
   "cell_type": "code",
   "execution_count": 3,
   "id": "1505a793-d7c4-4220-bf2d-80ed99a18da7",
   "metadata": {
    "tags": []
   },
   "outputs": [],
   "source": [
    "x,y,w,h,_,_ = (data[0]['annotations'][0]['result'][1]['value']).values()"
   ]
  },
  {
   "cell_type": "code",
   "execution_count": 4,
   "id": "63ccf250-9cbf-4561-aac1-878552fc4d63",
   "metadata": {},
   "outputs": [
    {
     "data": {
      "text/plain": [
       "(11.79941002949853, 3.39, 5.09)"
      ]
     },
     "execution_count": 4,
     "metadata": {},
     "output_type": "execute_result"
    }
   ],
   "source": [
    "11.79941002949853,3.39,5.09"
   ]
  },
  {
   "cell_type": "code",
   "execution_count": 5,
   "id": "c44d37b7-f26f-4137-b166-b02ef885d950",
   "metadata": {},
   "outputs": [],
   "source": [
    "px = x * 3.39 *11.79941002949853\n",
    "py = y * 5.09 *11.79941002949853\n",
    "pw = w * 3.39 *11.79941002949853\n",
    "ph = h * 5.09 *11.79941002949853"
   ]
  },
  {
   "cell_type": "code",
   "execution_count": 6,
   "id": "811f9f33-ee00-4c50-a6d0-e95a1994446c",
   "metadata": {
    "tags": []
   },
   "outputs": [
    {
     "name": "stdout",
     "output_type": "stream",
     "text": [
      "28.637642435232898 70.56238424683696 1.6183478506974325 0.4955728555976752\n",
      "1145.5056974093163 4237.906027332157 64.73391402789733 29.763608672473957\n"
     ]
    }
   ],
   "source": [
    "print(x,y,w,h)\n",
    "print(px,py,pw,ph)"
   ]
  },
  {
   "cell_type": "code",
   "execution_count": 7,
   "id": "ab1aa297-2264-4048-9064-fd6d5173e9c6",
   "metadata": {},
   "outputs": [
    {
     "data": {
      "text/plain": [
       "'/home/aminul/unr/dataset/V8_Becker/001_6(18)_Ndef_1fl.JPG'"
      ]
     },
     "execution_count": 7,
     "metadata": {},
     "output_type": "execute_result"
    }
   ],
   "source": [
    "fn = file_name[0]\n",
    "'/home/aminul/unr/dataset/V8_Becker/' + fn[:5]+'('+ fn[5:7]+')'+fn[-13:]"
   ]
  },
  {
   "cell_type": "code",
   "execution_count": null,
   "id": "0e35b347-18c9-48d9-ac1e-3b35db18ae0c",
   "metadata": {
    "tags": []
   },
   "outputs": [],
   "source": [
    "i=Image.open('/home/aminul/unr/dataset/V8_Becker/' + fn[:5]+'('+ fn[5:7]+')'+fn[-13:])\n",
    "draw=ImageDraw.Draw(i)\n",
    "draw.rectangle([(px,py),(w,h)],outline=\"red\")"
   ]
  },
  {
   "cell_type": "code",
   "execution_count": null,
   "id": "44059c40-f3d0-4d8e-9363-a52071ffc313",
   "metadata": {},
   "outputs": [],
   "source": [
    "i.save('x.jpg')"
   ]
  },
  {
   "cell_type": "code",
   "execution_count": 8,
   "id": "99f76308-1ccb-40de-bdd7-1cf85c0a710e",
   "metadata": {},
   "outputs": [],
   "source": [
    "img = cv2.imread('/home/aminul/unr/dataset/V8_Becker/' + fn[:5]+'('+ fn[5:7]+')'+fn[-13:])"
   ]
  },
  {
   "cell_type": "code",
   "execution_count": 9,
   "id": "d8559ab7-48ae-42dc-895b-bb38cb4c0b3b",
   "metadata": {},
   "outputs": [
    {
     "data": {
      "text/plain": [
       "(6000, 4000, 3)"
      ]
     },
     "execution_count": 9,
     "metadata": {},
     "output_type": "execute_result"
    }
   ],
   "source": [
    "img.shape"
   ]
  },
  {
   "cell_type": "code",
   "execution_count": 10,
   "id": "12bb0c88-6def-4b38-8201-86e03ac4eec0",
   "metadata": {},
   "outputs": [],
   "source": [
    "x0 = (px - pw)/2\n",
    "x1 = (px + pw)/2\n",
    "y0 = (py - ph)/2\n",
    "y1 = (py + ph)/2\n",
    "\n",
    "start_point = (int(px) , int(py))\n",
    "end_point = (int(px+pw) , int(py+ph))"
   ]
  },
  {
   "cell_type": "code",
   "execution_count": 11,
   "id": "db4617f0-d706-4de2-ad82-e81d037f5777",
   "metadata": {},
   "outputs": [
    {
     "data": {
      "text/plain": [
       "((1145, 4237), (1210, 4267))"
      ]
     },
     "execution_count": 11,
     "metadata": {},
     "output_type": "execute_result"
    }
   ],
   "source": [
    "start_point,end_point"
   ]
  },
  {
   "cell_type": "code",
   "execution_count": 13,
   "id": "0b2a2b70-5e31-4880-8619-cb7f5f2287a5",
   "metadata": {
    "tags": []
   },
   "outputs": [
    {
     "data": {
      "text/plain": [
       "True"
      ]
     },
     "execution_count": 13,
     "metadata": {},
     "output_type": "execute_result"
    }
   ],
   "source": [
    "cv2.rectangle(img, start_point, end_point, color=(0,0,255), thickness=2)\n",
    "cv2.imwrite(\"example_with_bounding_boxes.jpg\", img)"
   ]
  },
  {
   "cell_type": "code",
   "execution_count": null,
   "id": "cc7d2c9c-0ea2-4c7e-b7ee-f73fd3a9746f",
   "metadata": {
    "tags": []
   },
   "outputs": [],
   "source": [
    "cv2.imwrite(\"example_with_bounding_boxes.jpg\", img)"
   ]
  },
  {
   "cell_type": "code",
   "execution_count": null,
   "id": "bbe41c06-18a0-41ca-ba45-e06960db1646",
   "metadata": {},
   "outputs": [],
   "source": []
  },
  {
   "cell_type": "code",
   "execution_count": null,
   "id": "9051d77e-ed6a-454a-b5d9-14b8a7dd0d3c",
   "metadata": {},
   "outputs": [],
   "source": []
  },
  {
   "cell_type": "code",
   "execution_count": null,
   "id": "1fc6a7ba-b57d-4950-af3a-dbeb9c8fb068",
   "metadata": {},
   "outputs": [],
   "source": []
  }
 ],
 "metadata": {
  "kernelspec": {
   "display_name": "Torch",
   "language": "python",
   "name": "torch_env"
  },
  "language_info": {
   "codemirror_mode": {
    "name": "ipython",
    "version": 3
   },
   "file_extension": ".py",
   "mimetype": "text/x-python",
   "name": "python",
   "nbconvert_exporter": "python",
   "pygments_lexer": "ipython3",
   "version": "3.9.12"
  }
 },
 "nbformat": 4,
 "nbformat_minor": 5
}
