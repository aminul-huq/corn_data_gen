{
 "cells": [
  {
   "cell_type": "code",
   "execution_count": null,
   "id": "c592d2e9-bbbb-4afa-9109-eb248d79822b",
   "metadata": {},
   "outputs": [],
   "source": [
    "import json,cv2,random\n",
    "random.seed(42)\n",
    "\n",
    "f = open('simplified_annotations.json')\n",
    "data = json.load(f)\n",
    "\n",
    "#for future usage. \n",
    "test_list = ['001_6(18)_Ndef_1fl.JPG','006_5(17)_Ndef_1fl.JPG','011_2(14)_Ndef_1fl.JPG',\n",
    "             '016_1(13)_Ndef_2fl.JPG','021_4(16)_Ndef_2fl.JPG','026_6(18)_Ndef_2fl.JPG',\n",
    "             '031_6(18)_Ndef_3fl.JPG','036_5(17)_Ndef_3fl.JPG']\n",
    "\n",
    "#cropped image width and height\n",
    "cw,ch = 200,200\n",
    "\n",
    "#Label studio transforms the bounding box. So here only transforming it back\n",
    "#to get the pixel value\n",
    "\n",
    "def ls_to_px_int(x,y,w,h):\n",
    "    return int(x*40),int(y*60),int(w*40),int(h*60)\n",
    "\n",
    "#Checking if a particular point lies inside a rectangle given x,y,w and h\n",
    "def chk_points(cx,cy,cw,ch,x,y):\n",
    "    if (cx<x<cx+cw) and(cy<y<cy+ch):\n",
    "        return True\n",
    "    return False"
   ]
  },
  {
   "cell_type": "code",
   "execution_count": null,
   "id": "906e9aa9-b2b5-4c78-b974-9f96554505e5",
   "metadata": {
    "tags": []
   },
   "outputs": [],
   "source": [
    "#assuming the first image of v8 only. \n",
    "#string manipulation for the filename \n",
    "fn = data[0]['image'][24:]\n",
    "img = cv2.imread('v8/' + fn[:5]+'('+ fn[5:7]+')'+fn[-13:])\n",
    "\n",
    "\n",
    "#n = the number of cropped image to create\n",
    "#check_flag = True if all points of the bounding box lies inside the cropped image\n",
    "count = 0\n",
    "n = 10\n",
    "while count<n:\n",
    "    check_flag = False\n",
    "    #select a random starting point for cropped image\n",
    "    (cx,cy) = (random.randint(0,6000-ch),random.randint(0,4000-cw)) #original dimension 4000x6000. But for opencv it is reversed.\n",
    "\n",
    "    #check all the bounding box for if any bounding box lies inside the cropped image\n",
    "    #if no such bounding box exists then randomly pick a new starting point\n",
    "    for i in range(len(data[0]['label'])):\n",
    "        x,y,w,h,_,_,_,_ = data[0]['label'][i].values()\n",
    "        px,py,pw,ph = ls_to_px_int(x,y,w,h)\n",
    "        \n",
    "        a = chk_points(cx,cy,cw,ch,py,px)\n",
    "        b = chk_points(cx,cy,cw,ch,py+ph,px)\n",
    "        c = chk_points(cx,cy,cw,ch,py,px+pw)\n",
    "        d = chk_points(cx,cy,cw,ch,py+ph,px+pw)\n",
    "        \n",
    "        check_flag = a and d and c and d\n",
    "        \n",
    "        if check_flag == True:\n",
    "            print(cx,cy)\n",
    "            crop_image = img[cx:cx+cw, cy:cy+ch]\n",
    "            cv2.imwrite(\"data_store/\"+fn+str(count)+\".jpg\", crop_image)\n",
    "            count +=1\n",
    "            break"
   ]
  },
  {
   "cell_type": "code",
   "execution_count": null,
   "id": "654316e5-cf50-4f9a-9b81-2e8a9aa5bd14",
   "metadata": {},
   "outputs": [],
   "source": []
  },
  {
   "cell_type": "code",
   "execution_count": null,
   "id": "c9897dea-34c5-44b8-ad33-6d848a63c60e",
   "metadata": {},
   "outputs": [],
   "source": []
  },
  {
   "cell_type": "code",
   "execution_count": null,
   "id": "8b419d1c-3490-4761-969b-526c87ab5a0a",
   "metadata": {},
   "outputs": [],
   "source": []
  },
  {
   "cell_type": "code",
   "execution_count": null,
   "id": "4cf73a31-6938-4584-a1e0-b8bfd971634f",
   "metadata": {},
   "outputs": [],
   "source": []
  }
 ],
 "metadata": {
  "kernelspec": {
   "display_name": "Torch",
   "language": "python",
   "name": "torch_env"
  },
  "language_info": {
   "codemirror_mode": {
    "name": "ipython",
    "version": 3
   },
   "file_extension": ".py",
   "mimetype": "text/x-python",
   "name": "python",
   "nbconvert_exporter": "python",
   "pygments_lexer": "ipython3",
   "version": "3.9.12"
  }
 },
 "nbformat": 4,
 "nbformat_minor": 5
}
