{
 "cells": [
  {
   "cell_type": "code",
   "execution_count": null,
   "id": "17a6518e-461f-451e-aa32-c391396953b7",
   "metadata": {},
   "outputs": [],
   "source": [
    "import json \n",
    "f = open('corn_annotations.json')\n",
    "data = json.load(f)"
   ]
  },
  {
   "cell_type": "code",
   "execution_count": null,
   "id": "f70f5cb2-a9a1-42ee-b95a-81e5ac96ff11",
   "metadata": {
    "tags": []
   },
   "outputs": [],
   "source": [
    "file_name = []\n",
    "for i in data:\n",
    "    file_name.append((i['file_upload'][9:]))"
   ]
  },
  {
   "cell_type": "code",
   "execution_count": null,
   "id": "a4700a81-1be9-4a00-aa77-869917cbb75a",
   "metadata": {
    "tags": []
   },
   "outputs": [],
   "source": [
    "file_name"
   ]
  },
  {
   "cell_type": "code",
   "execution_count": null,
   "id": "e330643b-bf63-47e4-bafa-752e4d0c095e",
   "metadata": {},
   "outputs": [],
   "source": []
  },
  {
   "cell_type": "code",
   "execution_count": null,
   "id": "d613c46f-5e14-45c2-815a-a5d5f121de38",
   "metadata": {},
   "outputs": [],
   "source": []
  },
  {
   "cell_type": "code",
   "execution_count": null,
   "id": "44df1295-34f9-4786-b82e-6b9aeefd7a90",
   "metadata": {},
   "outputs": [],
   "source": []
  },
  {
   "cell_type": "code",
   "execution_count": null,
   "id": "1505a793-d7c4-4220-bf2d-80ed99a18da7",
   "metadata": {
    "tags": []
   },
   "outputs": [],
   "source": [
    "(data[0]['annotations'][0]['result'][0]['value'])"
   ]
  },
  {
   "cell_type": "code",
   "execution_count": null,
   "id": "811f9f33-ee00-4c50-a6d0-e95a1994446c",
   "metadata": {},
   "outputs": [],
   "source": [
    "print(x,y,w,h)"
   ]
  },
  {
   "cell_type": "code",
   "execution_count": null,
   "id": "12bb0c88-6def-4b38-8201-86e03ac4eec0",
   "metadata": {},
   "outputs": [],
   "source": [
    ".values()x,y,w,h,_,_ = "
   ]
  }
 ],
 "metadata": {
  "kernelspec": {
   "display_name": "Torch",
   "language": "python",
   "name": "torch_env"
  },
  "language_info": {
   "codemirror_mode": {
    "name": "ipython",
    "version": 3
   },
   "file_extension": ".py",
   "mimetype": "text/x-python",
   "name": "python",
   "nbconvert_exporter": "python",
   "pygments_lexer": "ipython3",
   "version": "3.9.12"
  }
 },
 "nbformat": 4,
 "nbformat_minor": 5
}
