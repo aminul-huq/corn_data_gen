{
 "cells": [
  {
   "cell_type": "code",
   "execution_count": 3,
   "id": "17a6518e-461f-451e-aa32-c391396953b7",
   "metadata": {},
   "outputs": [],
   "source": [
    "import json \n",
    "f = open('corn_annotations.json')\n",
    "data = json.load(f)"
   ]
  },
  {
   "cell_type": "code",
   "execution_count": 27,
   "id": "f70f5cb2-a9a1-42ee-b95a-81e5ac96ff11",
   "metadata": {
    "collapsed": true,
    "jupyter": {
     "outputs_hidden": true
    },
    "tags": []
   },
   "outputs": [
    {
     "name": "stdout",
     "output_type": "stream",
     "text": [
      "001_618_Ndef_1fl.JPG\n",
      "002_618_Ndef_1fl.JPG\n",
      "003_315_Ndef_1fl.JPG\n",
      "004_315_Ndef_1fl.JPG\n",
      "005_517_Ndef_1fl.JPG\n",
      "006_517_Ndef_1fl.JPG\n",
      "007_113_Ndef_1fl.JPG\n",
      "008_113_Ndef_1fl.JPG\n",
      "009_416_Ndef_1fl.JPG\n",
      "010_416_Ndef_1fl.JPG\n",
      "011_214_Ndef_1fl.JPG\n",
      "012_214_Ndef_1fl.JPG\n",
      "013_416_Ndef_1fl.JPG\n",
      "014_214_Ndef_1fl.JPG\n",
      "015_113_Ndef_2fl.JPG\n",
      "016_113_Ndef_2fl.JPG\n",
      "017_517_Ndef_2fl.JPG\n",
      "018_517_Ndef_2fl.JPG\n",
      "019_214_Ndef_2fl.JPG\n",
      "020_214_Ndef_2fl.JPG\n",
      "021_416_Ndef_2fl.JPG\n",
      "022_416_Ndef_2fl.JPG\n",
      "023_315_Ndef_2fl.JPG\n",
      "024_315_Ndef_2fl.JPG\n",
      "025_618_Ndef_2fl.JPG\n",
      "026_618_Ndef_2fl.JPG\n",
      "027_113_Ndef_2fl.JPG\n",
      "028_113_Ndef_2fl.JPG\n",
      "029_315_Ndef_2fl.JPG\n",
      "030_315_Ndef_2fl.JPG\n",
      "031_618_Ndef_3fl.JPG\n",
      "032_618_Ndef_3fl.JPG\n",
      "033_315_Ndef_3fl.JPG\n",
      "034_315_Ndef_3fl.JPG\n",
      "035_517_Ndef_3fl.JPG\n",
      "036_517_Ndef_3fl.JPG\n",
      "037_113_Ndef_3fl.JPG\n",
      "038_113_Ndef_3fl.JPG\n",
      "039_416_Ndef_3fl.JPG\n",
      "040_416_Ndef_3fl.JPG\n",
      "041_214_Ndef_3fl.JPG\n",
      "042_214_Ndef_3fl.JPG\n",
      "043_416_Ndef_3fl.JPG\n",
      "044_416_Ndef_3fl.JPG\n"
     ]
    }
   ],
   "source": [
    "file_name = []\n",
    "for i in data:\n",
    "    file_name.append((i['file_upload'][9:]))"
   ]
  },
  {
   "cell_type": "code",
   "execution_count": null,
   "id": "a4700a81-1be9-4a00-aa77-869917cbb75a",
   "metadata": {},
   "outputs": [],
   "source": []
  },
  {
   "cell_type": "code",
   "execution_count": null,
   "id": "e330643b-bf63-47e4-bafa-752e4d0c095e",
   "metadata": {},
   "outputs": [],
   "source": []
  },
  {
   "cell_type": "code",
   "execution_count": null,
   "id": "d613c46f-5e14-45c2-815a-a5d5f121de38",
   "metadata": {},
   "outputs": [],
   "source": []
  },
  {
   "cell_type": "code",
   "execution_count": null,
   "id": "44df1295-34f9-4786-b82e-6b9aeefd7a90",
   "metadata": {},
   "outputs": [],
   "source": []
  },
  {
   "cell_type": "code",
   "execution_count": 23,
   "id": "1505a793-d7c4-4220-bf2d-80ed99a18da7",
   "metadata": {
    "tags": []
   },
   "outputs": [
    {
     "data": {
      "text/plain": [
       "{'x': 26.44842311122239,\n",
       " 'y': 74.35243903512821,\n",
       " 'width': 0.8095064291941895,\n",
       " 'height': 0.36017950508122004,\n",
       " 'rotation': 0,\n",
       " 'rectanglelabels': ['Yellow Leaves']}"
      ]
     },
     "execution_count": 23,
     "metadata": {},
     "output_type": "execute_result"
    }
   ],
   "source": [
    "(data[0]['annotations'][0]['result'][0]['value'])"
   ]
  },
  {
   "cell_type": "code",
   "execution_count": 22,
   "id": "811f9f33-ee00-4c50-a6d0-e95a1994446c",
   "metadata": {},
   "outputs": [
    {
     "name": "stdout",
     "output_type": "stream",
     "text": [
      "26.44842311122239 74.35243903512821 0.8095064291941895 0.36017950508122004\n"
     ]
    }
   ],
   "source": [
    "print(x,y,w,h)"
   ]
  },
  {
   "cell_type": "code",
   "execution_count": null,
   "id": "12bb0c88-6def-4b38-8201-86e03ac4eec0",
   "metadata": {},
   "outputs": [],
   "source": [
    ".values()x,y,w,h,_,_ = "
   ]
  }
 ],
 "metadata": {
  "kernelspec": {
   "display_name": "Torch",
   "language": "python",
   "name": "torch_env"
  },
  "language_info": {
   "codemirror_mode": {
    "name": "ipython",
    "version": 3
   },
   "file_extension": ".py",
   "mimetype": "text/x-python",
   "name": "python",
   "nbconvert_exporter": "python",
   "pygments_lexer": "ipython3",
   "version": "3.9.12"
  }
 },
 "nbformat": 4,
 "nbformat_minor": 5
}
